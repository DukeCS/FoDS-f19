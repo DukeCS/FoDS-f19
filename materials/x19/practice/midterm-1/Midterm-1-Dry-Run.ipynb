{
 "cells": [
  {
   "cell_type": "markdown",
   "source": [
    "# Midterm 1\n",
    "\n",
    "**This is a practice exam, but all references to the midterm below will be as if it were the real thing**\n",
    "\n",
    "Below is Midterm 1.\n",
    "\n",
    "Your acknowledgement of the honor code in Sakai applies to this notebook.\n",
    "\n",
    "This is an *individual assessment* that you will do while supervised in class. This document and your answers are for your eyes only.\n",
    "\n",
    "This exam is open book, open note, open Internet, and closed to people. This means you cannot communicate with a person while taking the exam, including asking someone through the Internet  (like stackoverflow) for help and receiving help."
   ],
   "metadata": {
    "collapsed": false
   }
  },
  {
   "cell_type": "code",
   "execution_count": 47,
   "metadata": {
    "collapsed": true,
    "pycharm": {
     "is_executing": false
    }
   },
   "outputs": [],
   "source": [
    "# Run this cell, but please don't change it.\n",
    "\n",
    "# These lines import the Numpy and Datascience modules.\n",
    "import numpy as np\n",
    "from datascience import *\n",
    "\n",
    "# These lines do some fancy plotting magic\n",
    "import matplotlib\n",
    "%matplotlib inline\n",
    "import matplotlib.pyplot as plots\n",
    "plots.style.use('fivethirtyeight')\n",
    "\n",
    "# Don't change this cell; just run it. \n",
    "from gofer.ok import check\n",
    "\n",
    "from tests import tables_are_same"
   ]
  },
  {
   "cell_type": "markdown",
   "source": [
    "# Data Set: NBA\n",
    "\n",
    "Run the cell below to load NBA player stats and salary information.\n",
    "\n",
    "The data from \"player_data.csv\" is information about each player's game statistics\n",
    "\n",
    "The data from \"salary_data.csv\" includes each player's name and his salary."
   ],
   "metadata": {
    "collapsed": false,
    "pycharm": {
     "name": "#%% md\n"
    }
   }
  },
  {
   "cell_type": "code",
   "execution_count": 48,
   "outputs": [],
   "source": [
    "player_stats = Table.read_table(\"player_data.csv\")\n",
    "player_salaries = Table.read_table(\"salary_data.csv\")\n",
    "player_stats.show(3)\n",
    "player_salaries.show(3)"
   ],
   "metadata": {
    "collapsed": false,
    "pycharm": {
     "name": "#%%\n",
     "is_executing": false
    }
   }
  },
  {
   "cell_type": "markdown",
   "source": [
    "### 1. Make a Full Data Table\n",
    "Using the two tables `player_stats` and `player_salaries` create `player_full` by joining the two tables using the player name."
   ],
   "metadata": {
    "collapsed": false,
    "pycharm": {
     "name": "#%% md\n"
    }
   }
  },
  {
   "cell_type": "code",
   "execution_count": 49,
   "outputs": [],
   "source": [
    "player_full = ...\n",
    "player_full"
   ],
   "metadata": {
    "collapsed": false,
    "pycharm": {
     "name": "#%% \n",
     "is_executing": false
    }
   }
  },
  {
   "cell_type": "code",
   "execution_count": 50,
   "outputs": [],
   "source": [
    "# Run this cell to check your answer\n",
    "check('tests/q1.py')"
   ],
   "metadata": {
    "collapsed": false,
    "pycharm": {
     "name": "#%%\n",
     "is_executing": false
    }
   }
  },
  {
   "cell_type": "markdown",
   "source": [
    "### 2. Filter out only those players on the Los Angeles Clippers\n",
    "Create a new table called `clippers_players` from the `player_full` table that only has players from the LAC team."
   ],
   "metadata": {
    "collapsed": false,
    "pycharm": {
     "name": "#%% md\n"
    }
   }
  },
  {
   "cell_type": "code",
   "execution_count": 51,
   "outputs": [],
   "source": [
    "clippers_players = ...\n",
    "clippers_players"
   ],
   "metadata": {
    "collapsed": false,
    "pycharm": {
     "name": "#%%\n",
     "is_executing": false
    }
   }
  },
  {
   "cell_type": "code",
   "execution_count": 52,
   "outputs": [],
   "source": [
    "# Run, but do not change this cell\n",
    "q2_ans = clippers_players"
   ],
   "metadata": {
    "collapsed": false,
    "pycharm": {
     "name": "#%%\n",
     "is_executing": false
    }
   }
  },
  {
   "cell_type": "code",
   "execution_count": 53,
   "outputs": [],
   "source": [
    "# Run this cell to check your answer\n",
    "check('tests/q2.py')"
   ],
   "metadata": {
    "collapsed": false,
    "pycharm": {
     "name": "#%%\n",
     "is_executing": false
    }
   }
  },
  {
   "cell_type": "markdown",
   "source": [
    "### 3. Add an extra column with the players salary in millions of dollars\n",
    "Add a column called `Salary in Mln USD` to the `clippers_players` table"
   ],
   "metadata": {
    "collapsed": false,
    "pycharm": {
     "name": "#%% md\n"
    }
   }
  },
  {
   "cell_type": "code",
   "execution_count": 54,
   "outputs": [],
   "source": [
    "clippers_players = ..."
   ],
   "metadata": {
    "collapsed": false,
    "pycharm": {
     "name": "#%% \n",
     "is_executing": false
    }
   }
  },
  {
   "cell_type": "code",
   "execution_count": 55,
   "outputs": [],
   "source": [
    "# Run, but do not change this cell\n",
    "q3_ans = clippers_players"
   ],
   "metadata": {
    "collapsed": false,
    "pycharm": {
     "name": "#%%\n",
     "is_executing": false
    }
   }
  },
  {
   "cell_type": "code",
   "execution_count": 56,
   "outputs": [],
   "source": [
    "# Run this cell to check your answer\n",
    "check('tests/q3.py')"
   ],
   "metadata": {
    "collapsed": false,
    "pycharm": {
     "name": "#%%\n",
     "is_executing": false
    }
   }
  },
  {
   "cell_type": "markdown",
   "source": [
    "### 4. Make a histogram of the data\n",
    "Create a histogram where the bins are each $1 million up to $5,000,000 and then are in increments of $5,000,000 after that. \n",
    "Make sure to check what the largest salary is to know how far the bins should go."
   ],
   "metadata": {
    "collapsed": false,
    "pycharm": {
     "name": "#%% md\n"
    }
   }
  },
  {
   "cell_type": "code",
   "execution_count": 57,
   "outputs": [],
   "source": [
    "# Write your code here"
   ],
   "metadata": {
    "collapsed": false,
    "pycharm": {
     "name": "#%%\n",
     "is_executing": false
    }
   }
  },
  {
   "cell_type": "markdown",
   "source": [
    "### 5. Analyze the histogram\n",
    "In the space below, explain which bar in the histogram has the most players in it and why."
   ],
   "metadata": {
    "collapsed": false,
    "pycharm": {
     "name": "#%% md\n"
    }
   }
  },
  {
   "cell_type": "markdown",
   "source": [
    "*(Fill out your answer here)*"
   ],
   "metadata": {
    "collapsed": false,
    "pycharm": {
     "name": "#%% md\n"
    }
   }
  },
  {
   "cell_type": "markdown",
   "source": [
    "### 6. Using pivot tables\n",
    "Add a new column called `Age Decade` that truncates each player's `Age` column to the decade digit by using floor division `//`. \n"
   ],
   "metadata": {
    "collapsed": false,
    "pycharm": {
     "name": "#%% md\n"
    }
   }
  },
  {
   "cell_type": "code",
   "execution_count": 58,
   "outputs": [],
   "source": [
    "# This cell is to demonstrate floor division\n",
    "# Just run it, don't worry about understanding it now.\n",
    "print(f'4 // 2 = {4 // 2}')\n",
    "print(f'50 // 3 = {50 // 3}')\n",
    "print(f'8 // 5 = {8 // 5}')"
   ],
   "metadata": {
    "collapsed": false,
    "pycharm": {
     "name": "#%%\n",
     "is_executing": false
    }
   }
  },
  {
   "cell_type": "markdown",
   "source": [
    "Create a pivot table where the first column is the `Team`, the rest is from `Age Decade`, and the values in the table are the average salary.\n",
    "You must use the table with all the players (`player_full`), not only the clippers for this question"
   ],
   "metadata": {
    "collapsed": false,
    "pycharm": {
     "name": "#%% md\n"
    }
   }
  },
  {
   "cell_type": "code",
   "execution_count": 59,
   "outputs": [],
   "source": [
    "salary_per_decade_table = ...\n",
    "pivot_table = ...\n",
    "pivot_table"
   ],
   "metadata": {
    "collapsed": false,
    "pycharm": {
     "name": "#%%\n",
     "is_executing": false
    }
   }
  },
  {
   "cell_type": "code",
   "execution_count": 60,
   "outputs": [],
   "source": [
    "# Run this cell to check your results!\n",
    "check('tests/q6.py')"
   ],
   "metadata": {
    "collapsed": false,
    "pycharm": {
     "name": "#%%\n",
     "is_executing": false
    }
   }
  },
  {
   "cell_type": "markdown",
   "source": [
    "## Submission\n",
    "\n",
    "Congrats, you're finished with this section of the midterm!\n",
    "\n",
    "In order to successfully submit your midterm, follow these steps...\n",
    "- **Save and checkpoint** your lab.\n",
    "- **Run all the tests and verify that they all pass** (the next cell has a shortcut for that). \n",
    "- **Review the notebook one last time** If you make any changes, please **Save and Checkpoint** again.\n",
    "- Hit `File->Download As->PDF via LaTeX` and submit the PDF to gradescope for those questions that were not autograded."
   ],
   "metadata": {
    "collapsed": false,
    "pycharm": {
     "name": "#%% md\n"
    }
   }
  },
  {
   "cell_type": "code",
   "execution_count": null,
   "outputs": [],
   "source": [
    "# For your convenience, you can run this cell to run all the tests at once!\n",
    "import glob\n",
    "from gofer.ok import grade_notebook\n",
    "if not globals().get('__GOFER_GRADER__', False):\n",
    "    display(grade_notebook('Midterm-1-Dry-Run.ipynb', sorted(glob.glob('tests/q*.py'))))"
   ],
   "metadata": {
    "collapsed": false,
    "pycharm": {
     "name": "#%%\n"
    }
   }
  }
 ],
 "metadata": {
  "kernelspec": {
   "display_name": "Python 3",
   "language": "python",
   "name": "python3"
  },
  "language_info": {
   "codemirror_mode": {
    "name": "ipython",
    "version": 2
   },
   "file_extension": ".py",
   "mimetype": "text/x-python",
   "name": "python",
   "nbconvert_exporter": "python",
   "pygments_lexer": "ipython2",
   "version": "2.7.6"
  },
  "pycharm": {
   "stem_cell": {
    "cell_type": "raw",
    "source": [],
    "metadata": {
     "collapsed": false
    }
   }
  }
 },
 "nbformat": 4,
 "nbformat_minor": 0
}