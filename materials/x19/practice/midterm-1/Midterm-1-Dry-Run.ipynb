{
 "cells": [
  {
   "cell_type": "markdown",
   "source": [
    "# Midterm 1\n",
    "\n",
    "**This is a practice exam, but all references to the midterm below will be as if it were the real thing**\n",
    "\n",
    "Below is Midterm 1.\n",
    "\n",
    "Your acknowledgement of the honor code in Sakai applies to this notebook.\n",
    "\n",
    "This is an *individual assessment* that you will do while supervised in class. This document and your answers are for your eyes only.\n",
    "\n",
    "This exam is open book, open note, open Internet, and closed to people. This means you cannot communicate with a person while taking the exam, including asking someone through the Internet  (like stackoverflow) for help and receiving help."
   ],
   "metadata": {
    "collapsed": false
   }
  },
  {
   "cell_type": "code",
   "execution_count": 47,
   "metadata": {
    "collapsed": true,
    "pycharm": {
     "is_executing": false
    }
   },
   "outputs": [],
   "source": [
    "# Run this cell, but please don't change it.\n",
    "\n",
    "# These lines import the Numpy and Datascience modules.\n",
    "import numpy as np\n",
    "from datascience import *\n",
    "\n",
    "# These lines do some fancy plotting magic\n",
    "import matplotlib\n",
    "%matplotlib inline\n",
    "import matplotlib.pyplot as plots\n",
    "plots.style.use('fivethirtyeight')\n",
    "\n",
    "# Don't change this cell; just run it. \n",
    "from gofer.ok import check\n",
    "\n",
    "from tests import tables_are_same"
   ]
  },
  {
   "cell_type": "markdown",
   "source": [
    "# Data Set: NBA\n",
    "\n",
    "Run the cell below to load NBA player stats and salary information.\n",
    "\n",
    "The data from \"player_data.csv\" is information about each player's game statistics\n",
    "\n",
    "The data from \"salary_data.csv\" includes each player's name and his salary."
   ],
   "metadata": {
    "collapsed": false,
    "pycharm": {
     "name": "#%% md\n"
    }
   }
  },
  {
   "cell_type": "code",
   "execution_count": 48,
   "outputs": [
    {
     "data": {
      "text/plain": "<IPython.core.display.HTML object>",
      "text/html": "<table border=\"1\" class=\"dataframe\">\n    <thead>\n        <tr>\n            <th>Name</th> <th>Age</th> <th>Team</th> <th>Games</th> <th>Rebounds</th> <th>Assists</th> <th>Steals</th> <th>Blocks</th> <th>Turnovers</th> <th>Points</th>\n        </tr>\n    </thead>\n    <tbody>\n        <tr>\n            <td>James Harden </td> <td>25  </td> <td>HOU </td> <td>81   </td> <td>459     </td> <td>565    </td> <td>154   </td> <td>60    </td> <td>321      </td> <td>2217  </td>\n        </tr>\n        <tr>\n            <td>Chris Paul   </td> <td>29  </td> <td>LAC </td> <td>82   </td> <td>376     </td> <td>838    </td> <td>156   </td> <td>15    </td> <td>190      </td> <td>1564  </td>\n        </tr>\n        <tr>\n            <td>Stephen Curry</td> <td>26  </td> <td>GSW </td> <td>80   </td> <td>341     </td> <td>619    </td> <td>163   </td> <td>16    </td> <td>249      </td> <td>1900  </td>\n        </tr>\n    </tbody>\n</table>\n<p>... (489 rows omitted)</p>"
     },
     "metadata": {},
     "output_type": "display_data"
    },
    {
     "data": {
      "text/plain": "<IPython.core.display.HTML object>",
      "text/html": "<table border=\"1\" class=\"dataframe\">\n    <thead>\n        <tr>\n            <th>PlayerName</th> <th>Salary</th>\n        </tr>\n    </thead>\n    <tbody>\n        <tr>\n            <td>Kobe Bryant      </td> <td>23500000</td>\n        </tr>\n        <tr>\n            <td>Amar'e Stoudemire</td> <td>23410988</td>\n        </tr>\n        <tr>\n            <td>Joe Johnson      </td> <td>23180790</td>\n        </tr>\n    </tbody>\n</table>\n<p>... (489 rows omitted)</p>"
     },
     "metadata": {},
     "output_type": "display_data"
    }
   ],
   "source": [
    "player_stats = Table.read_table(\"player_data.csv\")\n",
    "player_salaries = Table.read_table(\"salary_data.csv\")\n",
    "player_stats.show(3)\n",
    "player_salaries.show(3)"
   ],
   "metadata": {
    "collapsed": false,
    "pycharm": {
     "name": "#%%\n",
     "is_executing": false
    }
   }
  },
  {
   "cell_type": "markdown",
   "source": [
    "### 1. Make a Full Data Table\n",
    "Using the two tables `player_stats` and `player_salaries` create `player_full` by joining the two tables using the player name."
   ],
   "metadata": {
    "collapsed": false,
    "pycharm": {
     "name": "#%% md\n"
    }
   }
  },
  {
   "cell_type": "code",
   "execution_count": 49,
   "outputs": [
    {
     "data": {
      "text/plain": "492"
     },
     "metadata": {},
     "output_type": "execute_result",
     "execution_count": 49
    }
   ],
   "source": [
    "player_full = player_stats.join('Name', player_salaries, 'PlayerName')\n",
    "player_full.num_rows"
   ],
   "metadata": {
    "collapsed": false,
    "pycharm": {
     "name": "#%% \n",
     "is_executing": false
    }
   }
  },
  {
   "cell_type": "code",
   "execution_count": 50,
   "outputs": [
    {
     "data": {
      "text/plain": "<gofer.ok.OKTestsResult at 0x7f451a592690>",
      "text/html": "\n    \n    \n        <p>All tests passed!</p>\n    \n    "
     },
     "metadata": {},
     "output_type": "execute_result",
     "execution_count": 50
    }
   ],
   "source": [
    "# Run this cell to check your answer\n",
    "check('tests/q1.py')"
   ],
   "metadata": {
    "collapsed": false,
    "pycharm": {
     "name": "#%%\n",
     "is_executing": false
    }
   }
  },
  {
   "cell_type": "markdown",
   "source": [
    "### 2. Filter out only those players on the Los Angeles Clippers\n",
    "Create a new table called `clippers_players` from the `player_full` table that only has players from the LAC team."
   ],
   "metadata": {
    "collapsed": false,
    "pycharm": {
     "name": "#%% md\n"
    }
   }
  },
  {
   "cell_type": "code",
   "execution_count": 51,
   "outputs": [
    {
     "data": {
      "text/plain": "Name                  | Age  | Team | Games | Rebounds | Assists | Steals | Blocks | Turnovers | Points | Salary\nBlake Griffin         | 25   | LAC  | 67    | 508      | 354     | 63     | 35     | 152       | 1469   | 17674613\nC.J. Wilcox           | 24   | LAC  | 21    | 7        | 8       | 3      | 1      | 10        | 41     | 1109760\nChris Douglas-Roberts | 28   | LAC  | 12    | 12       | 4       | 1      | 0      | 0         | 19     | 948163\nChris Paul            | 29   | LAC  | 82    | 376      | 838     | 156    | 15     | 190       | 1564   | 20068563\nDahntay Jones         | 34   | LAC  | 33    | 11       | 2       | 3      | 0      | 1         | 21     | 613478\nDeAndre Jordan        | 26   | LAC  | 82    | 1226     | 61      | 81     | 183    | 109       | 946    | 11440124\nEkpe Udoh             | 27   | LAC  | 33    | 26       | 8       | 8      | 7      | 7         | 29     | 981084\nGlen Davis            | 29   | LAC  | 74    | 169      | 39      | 41     | 21     | 39        | 294    | 6600000\nHedo Turkoglu         | 35   | LAC  | 62    | 99       | 37      | 19     | 7      | 29        | 232    | 1448490\nJ.J. Redick           | 30   | LAC  | 78    | 167      | 137     | 39     | 8      | 95        | 1277   | 6792500\n... (7 rows omitted)",
      "text/html": "<table border=\"1\" class=\"dataframe\">\n    <thead>\n        <tr>\n            <th>Name</th> <th>Age</th> <th>Team</th> <th>Games</th> <th>Rebounds</th> <th>Assists</th> <th>Steals</th> <th>Blocks</th> <th>Turnovers</th> <th>Points</th> <th>Salary</th>\n        </tr>\n    </thead>\n    <tbody>\n        <tr>\n            <td>Blake Griffin        </td> <td>25  </td> <td>LAC </td> <td>67   </td> <td>508     </td> <td>354    </td> <td>63    </td> <td>35    </td> <td>152      </td> <td>1469  </td> <td>17674613</td>\n        </tr>\n        <tr>\n            <td>C.J. Wilcox          </td> <td>24  </td> <td>LAC </td> <td>21   </td> <td>7       </td> <td>8      </td> <td>3     </td> <td>1     </td> <td>10       </td> <td>41    </td> <td>1109760 </td>\n        </tr>\n        <tr>\n            <td>Chris Douglas-Roberts</td> <td>28  </td> <td>LAC </td> <td>12   </td> <td>12      </td> <td>4      </td> <td>1     </td> <td>0     </td> <td>0        </td> <td>19    </td> <td>948163  </td>\n        </tr>\n        <tr>\n            <td>Chris Paul           </td> <td>29  </td> <td>LAC </td> <td>82   </td> <td>376     </td> <td>838    </td> <td>156   </td> <td>15    </td> <td>190      </td> <td>1564  </td> <td>20068563</td>\n        </tr>\n        <tr>\n            <td>Dahntay Jones        </td> <td>34  </td> <td>LAC </td> <td>33   </td> <td>11      </td> <td>2      </td> <td>3     </td> <td>0     </td> <td>1        </td> <td>21    </td> <td>613478  </td>\n        </tr>\n        <tr>\n            <td>DeAndre Jordan       </td> <td>26  </td> <td>LAC </td> <td>82   </td> <td>1226    </td> <td>61     </td> <td>81    </td> <td>183   </td> <td>109      </td> <td>946   </td> <td>11440124</td>\n        </tr>\n        <tr>\n            <td>Ekpe Udoh            </td> <td>27  </td> <td>LAC </td> <td>33   </td> <td>26      </td> <td>8      </td> <td>8     </td> <td>7     </td> <td>7        </td> <td>29    </td> <td>981084  </td>\n        </tr>\n        <tr>\n            <td>Glen Davis           </td> <td>29  </td> <td>LAC </td> <td>74   </td> <td>169     </td> <td>39     </td> <td>41    </td> <td>21    </td> <td>39       </td> <td>294   </td> <td>6600000 </td>\n        </tr>\n        <tr>\n            <td>Hedo Turkoglu        </td> <td>35  </td> <td>LAC </td> <td>62   </td> <td>99      </td> <td>37     </td> <td>19    </td> <td>7     </td> <td>29       </td> <td>232   </td> <td>1448490 </td>\n        </tr>\n        <tr>\n            <td>J.J. Redick          </td> <td>30  </td> <td>LAC </td> <td>78   </td> <td>167     </td> <td>137    </td> <td>39    </td> <td>8     </td> <td>95       </td> <td>1277  </td> <td>6792500 </td>\n        </tr>\n    </tbody>\n</table>\n<p>... (7 rows omitted)</p>"
     },
     "metadata": {},
     "output_type": "execute_result",
     "execution_count": 51
    }
   ],
   "source": [
    "clippers_players = player_full.where('Team', are.equal_to('LAC'))\n",
    "clippers_players"
   ],
   "metadata": {
    "collapsed": false,
    "pycharm": {
     "name": "#%%\n",
     "is_executing": false
    }
   }
  },
  {
   "cell_type": "code",
   "execution_count": 52,
   "outputs": [],
   "source": [
    "# Run, but do not change this cell\n",
    "q2_ans = clippers_players"
   ],
   "metadata": {
    "collapsed": false,
    "pycharm": {
     "name": "#%%\n",
     "is_executing": false
    }
   }
  },
  {
   "cell_type": "code",
   "execution_count": 53,
   "outputs": [
    {
     "data": {
      "text/plain": "<gofer.ok.OKTestsResult at 0x7f451a592c10>",
      "text/html": "\n    \n    \n        <p>All tests passed!</p>\n    \n    "
     },
     "metadata": {},
     "output_type": "execute_result",
     "execution_count": 53
    }
   ],
   "source": [
    "# Run this cell to check your answer\n",
    "check('tests/q2.py')"
   ],
   "metadata": {
    "collapsed": false,
    "pycharm": {
     "name": "#%%\n",
     "is_executing": false
    }
   }
  },
  {
   "cell_type": "markdown",
   "source": [
    "### 3. Add an extra column with the players salary in millions of dollars\n",
    "Add a column called `Salary in Mln USD` to the `clippers_players` table"
   ],
   "metadata": {
    "collapsed": false,
    "pycharm": {
     "name": "#%% md\n"
    }
   }
  },
  {
   "cell_type": "code",
   "execution_count": 54,
   "outputs": [],
   "source": [
    "def in_mln(amount):\n",
    "    return amount / 1e6\n",
    "\n",
    "clippers_players = clippers_players.with_column('Salary in 10^6', clippers_players.apply(in_mln, 'Salary'))"
   ],
   "metadata": {
    "collapsed": false,
    "pycharm": {
     "name": "#%% \n",
     "is_executing": false
    }
   }
  },
  {
   "cell_type": "code",
   "execution_count": 55,
   "outputs": [],
   "source": [
    "# Run, but do not change this cell\n",
    "q3_ans = clippers_players"
   ],
   "metadata": {
    "collapsed": false,
    "pycharm": {
     "name": "#%%\n",
     "is_executing": false
    }
   }
  },
  {
   "cell_type": "code",
   "execution_count": 56,
   "outputs": [
    {
     "data": {
      "text/plain": "<gofer.ok.OKTestsResult at 0x7f451a59f6d0>",
      "text/html": "\n    \n    \n        <p>All tests passed!</p>\n    \n    "
     },
     "metadata": {},
     "output_type": "execute_result",
     "execution_count": 56
    }
   ],
   "source": [
    "# Run this cell to check your answer\n",
    "check('tests/q3.py')"
   ],
   "metadata": {
    "collapsed": false,
    "pycharm": {
     "name": "#%%\n",
     "is_executing": false
    }
   }
  },
  {
   "cell_type": "markdown",
   "source": [
    "### 4. Make a histogram of the data\n",
    "Create a histogram where the bins are each $1 million up to $5,000,000 and then are in increments of $5,000,000 after that. \n",
    "Make sure to check what the largest salary is to know how far the bins should go."
   ],
   "metadata": {
    "collapsed": false,
    "pycharm": {
     "name": "#%% md\n"
    }
   }
  },
  {
   "cell_type": "code",
   "execution_count": 57,
   "outputs": [
    {
     "data": {
      "text/plain": "<Figure size 432x288 with 1 Axes>",
      "image/png": "[encoded data removed]"
     },
     "metadata": {},
     "output_type": "display_data"
    }
   ],
   "source": [
    "bins = [0, 1, 2, 3, 4, 5, 10, 15, 20, 25]\n",
    "clippers_players.hist('Salary in 10^6', bins=bins)"
   ],
   "metadata": {
    "collapsed": false,
    "pycharm": {
     "name": "#%%\n",
     "is_executing": false
    }
   }
  },
  {
   "cell_type": "markdown",
   "source": [
    "### 5. Analyze the histogram\n",
    "In the space below, explain which bar in the histogram has the most players in it and why."
   ],
   "metadata": {
    "collapsed": false,
    "pycharm": {
     "name": "#%% md\n"
    }
   }
  },
  {
   "cell_type": "markdown",
   "source": [
    "*(Fill out your answer here)*"
   ],
   "metadata": {
    "collapsed": false,
    "pycharm": {
     "name": "#%% md\n"
    }
   }
  },
  {
   "cell_type": "markdown",
   "source": [
    "### 6. Using pivot tables\n",
    "Add a new column called `Age Decade` that truncates each player's `Age` column to the decade digit by using floor division `//`. \n"
   ],
   "metadata": {
    "collapsed": false,
    "pycharm": {
     "name": "#%% md\n"
    }
   }
  },
  {
   "cell_type": "code",
   "execution_count": 58,
   "outputs": [
    {
     "name": "stdout",
     "text": [
      "4 // 2 = 2\n50 // 3 = 16\n8 // 5 = 1\n"
     ],
     "output_type": "stream"
    }
   ],
   "source": [
    "# This cell is to demonstrate floor division\n",
    "# Just run it, don't worry about understanding it now.\n",
    "print(f'4 // 2 = {4 // 2}')\n",
    "print(f'50 // 3 = {50 // 3}')\n",
    "print(f'8 // 5 = {8 // 5}')"
   ],
   "metadata": {
    "collapsed": false,
    "pycharm": {
     "name": "#%%\n",
     "is_executing": false
    }
   }
  },
  {
   "cell_type": "markdown",
   "source": [
    "Create a pivot table where the first column is the `Team`, the rest is from `Age Decade`, and the values in the table are the average salary.\n",
    "You must use the table with all the players (`player_full`), not only the clippers for this question"
   ],
   "metadata": {
    "collapsed": false,
    "pycharm": {
     "name": "#%% md\n"
    }
   }
  },
  {
   "cell_type": "code",
   "execution_count": 59,
   "outputs": [
    {
     "data": {
      "text/plain": "Team | 1           | 2           | 3\nATL  | 0           | 4.35292e+06 | 3.41338e+06\nBOS  | 1.67448e+06 | 3.33411e+06 | 1.01059e+07\nBRK  | 0           | 2.79513e+06 | 1.07675e+07\nCHI  | 0           | 5.78694e+06 | 3.15608e+06\nCHO  | 2.5242e+06  | 4.299e+06   | 5.47732e+06\nCLE  | 0           | 4.37775e+06 | 6.36528e+06\nDAL  | 0           | 5.2048e+06  | 4.93740e+06\nDEN  | 0           | 4.18543e+06 | 3.135e+06\nDET  | 0           | 4.25346e+06 | 2.44566e+06\nGSW  | 0           | 2.79013e+06 | 1.04308e+07\n... (21 rows omitted)",
      "text/html": "<table border=\"1\" class=\"dataframe\">\n    <thead>\n        <tr>\n            <th>Team</th> <th>1</th> <th>2</th> <th>3</th>\n        </tr>\n    </thead>\n    <tbody>\n        <tr>\n            <td>ATL </td> <td>0          </td> <td>4.35292e+06</td> <td>3.41338e+06</td>\n        </tr>\n        <tr>\n            <td>BOS </td> <td>1.67448e+06</td> <td>3.33411e+06</td> <td>1.01059e+07</td>\n        </tr>\n        <tr>\n            <td>BRK </td> <td>0          </td> <td>2.79513e+06</td> <td>1.07675e+07</td>\n        </tr>\n        <tr>\n            <td>CHI </td> <td>0          </td> <td>5.78694e+06</td> <td>3.15608e+06</td>\n        </tr>\n        <tr>\n            <td>CHO </td> <td>2.5242e+06 </td> <td>4.299e+06  </td> <td>5.47732e+06</td>\n        </tr>\n        <tr>\n            <td>CLE </td> <td>0          </td> <td>4.37775e+06</td> <td>6.36528e+06</td>\n        </tr>\n        <tr>\n            <td>DAL </td> <td>0          </td> <td>5.2048e+06 </td> <td>4.93740e+06</td>\n        </tr>\n        <tr>\n            <td>DEN </td> <td>0          </td> <td>4.18543e+06</td> <td>3.135e+06  </td>\n        </tr>\n        <tr>\n            <td>DET </td> <td>0          </td> <td>4.25346e+06</td> <td>2.44566e+06</td>\n        </tr>\n        <tr>\n            <td>GSW </td> <td>0          </td> <td>2.79013e+06</td> <td>1.04308e+07</td>\n        </tr>\n    </tbody>\n</table>\n<p>... (21 rows omitted)</p>"
     },
     "metadata": {},
     "output_type": "execute_result",
     "execution_count": 59
    }
   ],
   "source": [
    "salary_per_decade_table = player_full.with_column('Age Decade', player_full['Age']//10)\n",
    "pivot_table = salary_per_decade_table.pivot('Age Decade', 'Team', 'Salary', np.average)\n",
    "pivot_table"
   ],
   "metadata": {
    "collapsed": false,
    "pycharm": {
     "name": "#%%\n",
     "is_executing": false
    }
   }
  },
  {
   "cell_type": "code",
   "execution_count": 60,
   "outputs": [
    {
     "data": {
      "text/plain": "<gofer.ok.OKTestsResult at 0x7f451a5c66d0>",
      "text/html": "\n    \n    \n        <p>All tests passed!</p>\n    \n    "
     },
     "metadata": {},
     "output_type": "execute_result",
     "execution_count": 60
    }
   ],
   "source": [
    "# Run this cell to check your results!\n",
    "check('tests/q6.py')"
   ],
   "metadata": {
    "collapsed": false,
    "pycharm": {
     "name": "#%%\n",
     "is_executing": false
    }
   }
  },
  {
   "cell_type": "code",
   "execution_count": null,
   "outputs": [],
   "source": [
    "\n"
   ],
   "metadata": {
    "collapsed": false,
    "pycharm": {
     "name": "#%%\n"
    }
   }
  }
 ],
 "metadata": {
  "kernelspec": {
   "display_name": "Python 3",
   "language": "python",
   "name": "python3"
  },
  "language_info": {
   "codemirror_mode": {
    "name": "ipython",
    "version": 2
   },
   "file_extension": ".py",
   "mimetype": "text/x-python",
   "name": "python",
   "nbconvert_exporter": "python",
   "pygments_lexer": "ipython2",
   "version": "2.7.6"
  },
  "pycharm": {
   "stem_cell": {
    "cell_type": "raw",
    "source": [],
    "metadata": {
     "collapsed": false
    }
   }
  }
 },
 "nbformat": 4,
 "nbformat_minor": 0
}